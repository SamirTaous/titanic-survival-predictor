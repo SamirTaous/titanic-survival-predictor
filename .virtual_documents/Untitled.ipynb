# 1 - Importing Libraries

import pandas as pd
import matplotlib.pyplot as plt
import seaborn as sns


# 2 - Data Visualization

df = pd.read_csv("train.csv")
df.head(10)


df.info()
df.describe()


df['Survived'].value_counts(normalize=True)


sns.countplot(x="Survived", data=df)


sns.countplot(x="Pclass", hue="Survived", data=df)


sns.countplot(x='Embarked', hue='Survived', data=df)


sns.histplot(data=df, x="Age", bins=20, hue="Survived", kde=True)


# 3 - Data Cleaning

df.isnull().sum()


# Fill missing Age values with the median
df['Age'].fillna(df['Age'].median(), inplace=True)

# Fill missing Embarked values with the mode (most common port)
df['Embarked'].fillna(df['Embarked'].mode()[0], inplace=True)

# Drop Cabin — too many missing values
df.drop('Cabin', axis=1, inplace=True)

# Drop irrelevant columns that won’t help model prediction
df.drop(['PassengerId', 'Name', 'Ticket'], axis=1, inplace=True)


# Change categorical data to numbers

pd.get_dummies(df, columns=['Embarked', 'Sex'], drop_first=True)
