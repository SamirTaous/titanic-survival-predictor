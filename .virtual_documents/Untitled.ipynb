# Importing Libraries

import pandas as pd
import matplotlib.pyplot as plt
import seaborn as sns


# 1 - Data Visualization

df = pd.read_csv("train.csv")
df.head(10)


df.info()
df.describe()


df['Survived'].value_counts(normalize=True)


sns.countplot(x="Survived", data=df)


sns.countplot(x="Pclass", hue="Survived", data=df)


sns.countplot(x='Embarked', hue='Survived', data=df)


sns.histplot(data=df, x="Age", bins=20, hue="Survived", kde=True)


# 2 - Data Cleaning

df.isnull().sum()


# Fill missing Age values with the median
df['Age'].fillna(df['Age'].median(), inplace=True)

# Fill missing Embarked values with the mode (most common port)
df['Embarked'].fillna(df['Embarked'].mode()[0], inplace=True)

# Drop Cabin — too many missing values
df.drop('Cabin', axis=1, inplace=True)

# Drop irrelevant columns that won’t help model prediction
df.drop(['PassengerId', 'Name', 'Ticket'], axis=1, inplace=True)


# Change categorical data to numbers

df= pd.get_dummies(df, columns=['Embarked', 'Sex'], drop_first=True)


# 3 - Train & Evaluate a Classifier

X = df.drop('Survived', axis=1)
y = df['Survived']


from sklearn.model_selection import train_test_split

X_train, X_test, y_train, y_test = train_test_split(X, y, test_size=0.2, random_state=42)


from sklearn.ensemble import RandomForestClassifier

model = RandomForestClassifier(random_state=42)
model.fit(X_train, y_train)


y_pred = model.predict(X_test)


from sklearn.metrics import accuracy_score, classification_report, confusion_matrix

print('Accuracy Score:', accuracy_score(y_test, y_pred))
print('Classification Report:', classification_report(y_test, y_pred))
print('Confusion Matrix:', confusion_matrix(y_test, y_pred))


# 4 - Training & Evaluating a second classifier

from sklearn.linear_model import LogisticRegression

model = LogisticRegression(max_iter=2000, random_state=42)

model.fit(X_train,y_train)


y_pred_log = model.predict(X_test)


# accuracy statistics

print('Accuracy Score:', accuracy_score(y_test, y_pred_log))
print('Classification Report:', classification_report(y_test, y_pred_log))
print('Confusion Matrix:', confusion_matrix(y_test, y_pred_log))
