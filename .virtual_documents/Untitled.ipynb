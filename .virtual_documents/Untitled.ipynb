# 1 - Importing Libraries

import pandas as pd
import matplotlib.pyplot as plt
import seaborn as sns


df = pd.read_csv("train.csv")
df.head(10)


df.info()
df.describe()


df['Survived'].value_counts(normalize=True)


sns.countplot(x="Survived", data=df)
